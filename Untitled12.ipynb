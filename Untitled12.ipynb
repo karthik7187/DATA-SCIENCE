{
  "nbformat": 4,
  "nbformat_minor": 0,
  "metadata": {
    "colab": {
      "name": "Untitled12.ipynb",
      "provenance": [],
      "authorship_tag": "ABX9TyNCbfb3tMyRGanWiDDmDfkH",
      "include_colab_link": true
    },
    "kernelspec": {
      "name": "python3",
      "display_name": "Python 3"
    },
    "language_info": {
      "name": "python"
    }
  },
  "cells": [
    {
      "cell_type": "markdown",
      "metadata": {
        "id": "view-in-github",
        "colab_type": "text"
      },
      "source": [
        "<a href=\"https://colab.research.google.com/github/karthik7187/DATA-SCIENCE/blob/main/Untitled12.ipynb\" target=\"_parent\"><img src=\"https://colab.research.google.com/assets/colab-badge.svg\" alt=\"Open In Colab\"/></a>"
      ]
    },
    {
      "cell_type": "code",
      "metadata": {
        "id": "Sdx-2HUIVrfH"
      },
      "source": [
        "import pandas as pd\n",
        "import numpy as np\n",
        "import matplotlib.pyplot as plt\n",
        "import seaborn as sns"
      ],
      "execution_count": 18,
      "outputs": []
    },
    {
      "cell_type": "code",
      "metadata": {
        "colab": {
          "base_uri": "https://localhost:8080/",
          "height": 324
        },
        "id": "HwtJWP35V4XW",
        "outputId": "16a3b96a-65b2-4586-e3b2-fdc9bb09ddda"
      },
      "source": [
        "df=pd.read_csv('AAPL.csv')\n",
        "df.head()"
      ],
      "execution_count": 4,
      "outputs": [
        {
          "output_type": "execute_result",
          "data": {
            "text/html": [
              "<div>\n",
              "<style scoped>\n",
              "    .dataframe tbody tr th:only-of-type {\n",
              "        vertical-align: middle;\n",
              "    }\n",
              "\n",
              "    .dataframe tbody tr th {\n",
              "        vertical-align: top;\n",
              "    }\n",
              "\n",
              "    .dataframe thead th {\n",
              "        text-align: right;\n",
              "    }\n",
              "</style>\n",
              "<table border=\"1\" class=\"dataframe\">\n",
              "  <thead>\n",
              "    <tr style=\"text-align: right;\">\n",
              "      <th></th>\n",
              "      <th>Unnamed: 0</th>\n",
              "      <th>symbol</th>\n",
              "      <th>date</th>\n",
              "      <th>close</th>\n",
              "      <th>high</th>\n",
              "      <th>low</th>\n",
              "      <th>open</th>\n",
              "      <th>volume</th>\n",
              "      <th>adjClose</th>\n",
              "      <th>adjHigh</th>\n",
              "      <th>adjLow</th>\n",
              "      <th>adjOpen</th>\n",
              "      <th>adjVolume</th>\n",
              "      <th>divCash</th>\n",
              "      <th>splitFactor</th>\n",
              "    </tr>\n",
              "  </thead>\n",
              "  <tbody>\n",
              "    <tr>\n",
              "      <th>0</th>\n",
              "      <td>0</td>\n",
              "      <td>AAPL</td>\n",
              "      <td>2015-05-27 00:00:00+00:00</td>\n",
              "      <td>132.045</td>\n",
              "      <td>132.260</td>\n",
              "      <td>130.05</td>\n",
              "      <td>130.34</td>\n",
              "      <td>45833246</td>\n",
              "      <td>121.682558</td>\n",
              "      <td>121.880685</td>\n",
              "      <td>119.844118</td>\n",
              "      <td>120.111360</td>\n",
              "      <td>45833246</td>\n",
              "      <td>0.0</td>\n",
              "      <td>1.0</td>\n",
              "    </tr>\n",
              "    <tr>\n",
              "      <th>1</th>\n",
              "      <td>1</td>\n",
              "      <td>AAPL</td>\n",
              "      <td>2015-05-28 00:00:00+00:00</td>\n",
              "      <td>131.780</td>\n",
              "      <td>131.950</td>\n",
              "      <td>131.10</td>\n",
              "      <td>131.86</td>\n",
              "      <td>30733309</td>\n",
              "      <td>121.438354</td>\n",
              "      <td>121.595013</td>\n",
              "      <td>120.811718</td>\n",
              "      <td>121.512076</td>\n",
              "      <td>30733309</td>\n",
              "      <td>0.0</td>\n",
              "      <td>1.0</td>\n",
              "    </tr>\n",
              "    <tr>\n",
              "      <th>2</th>\n",
              "      <td>2</td>\n",
              "      <td>AAPL</td>\n",
              "      <td>2015-05-29 00:00:00+00:00</td>\n",
              "      <td>130.280</td>\n",
              "      <td>131.450</td>\n",
              "      <td>129.90</td>\n",
              "      <td>131.23</td>\n",
              "      <td>50884452</td>\n",
              "      <td>120.056069</td>\n",
              "      <td>121.134251</td>\n",
              "      <td>119.705890</td>\n",
              "      <td>120.931516</td>\n",
              "      <td>50884452</td>\n",
              "      <td>0.0</td>\n",
              "      <td>1.0</td>\n",
              "    </tr>\n",
              "    <tr>\n",
              "      <th>3</th>\n",
              "      <td>3</td>\n",
              "      <td>AAPL</td>\n",
              "      <td>2015-06-01 00:00:00+00:00</td>\n",
              "      <td>130.535</td>\n",
              "      <td>131.390</td>\n",
              "      <td>130.05</td>\n",
              "      <td>131.20</td>\n",
              "      <td>32112797</td>\n",
              "      <td>120.291057</td>\n",
              "      <td>121.078960</td>\n",
              "      <td>119.844118</td>\n",
              "      <td>120.903870</td>\n",
              "      <td>32112797</td>\n",
              "      <td>0.0</td>\n",
              "      <td>1.0</td>\n",
              "    </tr>\n",
              "    <tr>\n",
              "      <th>4</th>\n",
              "      <td>4</td>\n",
              "      <td>AAPL</td>\n",
              "      <td>2015-06-02 00:00:00+00:00</td>\n",
              "      <td>129.960</td>\n",
              "      <td>130.655</td>\n",
              "      <td>129.32</td>\n",
              "      <td>129.86</td>\n",
              "      <td>33667627</td>\n",
              "      <td>119.761181</td>\n",
              "      <td>120.401640</td>\n",
              "      <td>119.171406</td>\n",
              "      <td>119.669029</td>\n",
              "      <td>33667627</td>\n",
              "      <td>0.0</td>\n",
              "      <td>1.0</td>\n",
              "    </tr>\n",
              "  </tbody>\n",
              "</table>\n",
              "</div>"
            ],
            "text/plain": [
              "   Unnamed: 0 symbol  ... divCash  splitFactor\n",
              "0           0   AAPL  ...     0.0          1.0\n",
              "1           1   AAPL  ...     0.0          1.0\n",
              "2           2   AAPL  ...     0.0          1.0\n",
              "3           3   AAPL  ...     0.0          1.0\n",
              "4           4   AAPL  ...     0.0          1.0\n",
              "\n",
              "[5 rows x 15 columns]"
            ]
          },
          "metadata": {
            "tags": []
          },
          "execution_count": 4
        }
      ]
    },
    {
      "cell_type": "code",
      "metadata": {
        "id": "1ATW7t87WJHz"
      },
      "source": [
        "df1=df.reset_index()['close']"
      ],
      "execution_count": 5,
      "outputs": []
    },
    {
      "cell_type": "code",
      "metadata": {
        "colab": {
          "base_uri": "https://localhost:8080/"
        },
        "id": "-_NM6xsYWluK",
        "outputId": "300edb6a-a8a3-458d-9dc4-d340d844e3e5"
      },
      "source": [
        "df1.shape"
      ],
      "execution_count": 6,
      "outputs": [
        {
          "output_type": "execute_result",
          "data": {
            "text/plain": [
              "(1258,)"
            ]
          },
          "metadata": {
            "tags": []
          },
          "execution_count": 6
        }
      ]
    },
    {
      "cell_type": "code",
      "metadata": {
        "colab": {
          "base_uri": "https://localhost:8080/",
          "height": 282
        },
        "id": "TxfhYQWGWoES",
        "outputId": "f8fbd067-addc-48a3-c397-72b8edb71d26"
      },
      "source": [
        "plt.plot(df1)"
      ],
      "execution_count": 7,
      "outputs": [
        {
          "output_type": "execute_result",
          "data": {
            "text/plain": [
              "[<matplotlib.lines.Line2D at 0x7f5980108fd0>]"
            ]
          },
          "metadata": {
            "tags": []
          },
          "execution_count": 7
        },
        {
          "output_type": "display_data",
          "data": {
            "image/png": "[encoded data removed]",
            "text/plain": [
              "<Figure size 432x288 with 1 Axes>"
            ]
          },
          "metadata": {
            "tags": [],
            "needs_background": "light"
          }
        }
      ]
    },
    {
      "cell_type": "markdown",
      "metadata": {
        "id": "ketk24mvW1HA"
      },
      "source": [
        "WE USE MINMAX SCALER AS LSTM ARE SENSITIVE TO DATA"
      ]
    },
    {
      "cell_type": "code",
      "metadata": {
        "id": "RUIX3meqWvbN"
      },
      "source": [
        ""
      ],
      "execution_count": null,
      "outputs": []
    },
    {
      "cell_type": "code",
      "metadata": {
        "colab": {
          "base_uri": "https://localhost:8080/"
        },
        "id": "lK6DWCq2WvsH",
        "outputId": "a715bd67-ddb1-432d-fa10-7ed4862aa2d2"
      },
      "source": [
        "#INITIAL LOOK OF df1\n",
        "df1"
      ],
      "execution_count": 8,
      "outputs": [
        {
          "output_type": "execute_result",
          "data": {
            "text/plain": [
              "0       132.045\n",
              "1       131.780\n",
              "2       130.280\n",
              "3       130.535\n",
              "4       129.960\n",
              "         ...   \n",
              "1253    314.960\n",
              "1254    313.140\n",
              "1255    319.230\n",
              "1256    316.850\n",
              "1257    318.890\n",
              "Name: close, Length: 1258, dtype: float64"
            ]
          },
          "metadata": {
            "tags": []
          },
          "execution_count": 8
        }
      ]
    },
    {
      "cell_type": "code",
      "metadata": {
        "id": "0hbZ0PcHXVxM"
      },
      "source": [
        "from sklearn.preprocessing import MinMaxScaler\n",
        "scaler=MinMaxScaler(feature_range=(0,1))\n",
        "df1=scaler.fit_transform(np.array(df1).reshape(-1,1))"
      ],
      "execution_count": 9,
      "outputs": []
    },
    {
      "cell_type": "code",
      "metadata": {
        "colab": {
          "base_uri": "https://localhost:8080/"
        },
        "id": "TtbJdjCwXrgT",
        "outputId": "840dfc9a-3d37-4361-e10f-4817b60d0a2b"
      },
      "source": [
        "#AFTER APPLYING MINMAXSCALER\n",
        "df1"
      ],
      "execution_count": 10,
      "outputs": [
        {
          "output_type": "execute_result",
          "data": {
            "text/plain": [
              "array([[0.17607447],\n",
              "       [0.17495567],\n",
              "       [0.16862282],\n",
              "       ...,\n",
              "       [0.96635143],\n",
              "       [0.9563033 ],\n",
              "       [0.96491598]])"
            ]
          },
          "metadata": {
            "tags": []
          },
          "execution_count": 10
        }
      ]
    },
    {
      "cell_type": "code",
      "metadata": {
        "id": "35tV7UoJXxff"
      },
      "source": [
        " #SPLITTING DATASET INTO TRAIN AND TEST\n",
        " training_size=int(len(df1)*0.65)\n",
        " test_size=len(df1)-training_size\n",
        " train_data,test_data=df1[0:training_size,:],df1[training_size:len(df1),:1]\n"
      ],
      "execution_count": 12,
      "outputs": []
    },
    {
      "cell_type": "code",
      "metadata": {
        "colab": {
          "base_uri": "https://localhost:8080/"
        },
        "id": "3Usf6EnSaGbq",
        "outputId": "57b58333-ddb9-41f6-cf27-ec823b503a74"
      },
      "source": [
        "len(train_data),len(test_data)"
      ],
      "execution_count": 15,
      "outputs": [
        {
          "output_type": "execute_result",
          "data": {
            "text/plain": [
              "(817, 441)"
            ]
          },
          "metadata": {
            "tags": []
          },
          "execution_count": 15
        }
      ]
    },
    {
      "cell_type": "code",
      "metadata": {
        "id": "AZG0GNV2aQ3w"
      },
      "source": [
        "import numpy\n",
        "# convert an array of values into a dataset matrix\n",
        "def create_dataset(dataset, time_step=1):\n",
        "\tdataX, dataY = [], []\n",
        "\tfor i in range(len(dataset)-time_step-1):\n",
        "\t\ta = dataset[i:(i+time_step), 0]   ###i=0, 0,1,2,3-----99   100 \n",
        "\t\tdataX.append(a)\n",
        "\t\tdataY.append(dataset[i + time_step, 0])\n",
        "\treturn numpy.array(dataX), numpy.array(dataY)\n"
      ],
      "execution_count": 20,
      "outputs": []
    },
    {
      "cell_type": "code",
      "metadata": {
        "id": "RqqyHX8TabiT"
      },
      "source": [
        "time_step = 100\n",
        "X_train, y_train = create_dataset(train_data, time_step)\n",
        "X_test, ytest = create_dataset(test_data, time_step)"
      ],
      "execution_count": 21,
      "outputs": []
    },
    {
      "cell_type": "code",
      "metadata": {
        "colab": {
          "base_uri": "https://localhost:8080/"
        },
        "id": "-csxGMJ3eDq2",
        "outputId": "232f6bc9-a325-4bce-e362-7eaf221e61ad"
      },
      "source": [
        "print(X_train.shape),print(y_train.shape)"
      ],
      "execution_count": 22,
      "outputs": [
        {
          "output_type": "stream",
          "text": [
            "(716, 100)\n",
            "(716,)\n"
          ],
          "name": "stdout"
        },
        {
          "output_type": "execute_result",
          "data": {
            "text/plain": [
              "(None, None)"
            ]
          },
          "metadata": {
            "tags": []
          },
          "execution_count": 22
        }
      ]
    },
    {
      "cell_type": "code",
      "metadata": {
        "colab": {
          "base_uri": "https://localhost:8080/"
        },
        "id": "DHj62-T7eR3Z",
        "outputId": "a6ba6926-2cd2-4384-8b23-1e8406f6a8d0"
      },
      "source": [
        "print(X_test.shape),print(y_train.shape)"
      ],
      "execution_count": 23,
      "outputs": [
        {
          "output_type": "stream",
          "text": [
            "(340, 100)\n",
            "(716,)\n"
          ],
          "name": "stdout"
        },
        {
          "output_type": "execute_result",
          "data": {
            "text/plain": [
              "(None, None)"
            ]
          },
          "metadata": {
            "tags": []
          },
          "execution_count": 23
        }
      ]
    },
    {
      "cell_type": "code",
      "metadata": {
        "id": "S1j9z21yeYCl"
      },
      "source": [
        "#reshape input required for LSTM\n",
        "X_train =X_train.reshape(X_train.shape[0],X_train.shape[1] , 1)\n",
        "X_test = X_test.reshape(X_test.shape[0],X_test.shape[1] , 1)"
      ],
      "execution_count": 25,
      "outputs": []
    },
    {
      "cell_type": "code",
      "metadata": {
        "id": "bt5YDWN8eYMQ"
      },
      "source": [
        "#creating LSTM Model\n",
        "from tensorflow.keras.models import Sequential\n",
        "from tensorflow.keras.layers import Dense\n",
        "from tensorflow.keras.layers import LSTM\n"
      ],
      "execution_count": 26,
      "outputs": []
    },
    {
      "cell_type": "code",
      "metadata": {
        "id": "aCPk1g6wfhkG"
      },
      "source": [
        "model=Sequential()\n",
        "model.add(LSTM(50,return_sequences=True,input_shape=(100,1)))\n",
        "model.add(LSTM(50,return_sequences=True))\n",
        "model.add(LSTM(50))\n",
        "model.add(Dense(1))\n",
        "model.compile(loss='mean_squared_error',optimizer='adam')"
      ],
      "execution_count": 27,
      "outputs": []
    },
    {
      "cell_type": "code",
      "metadata": {
        "colab": {
          "base_uri": "https://localhost:8080/"
        },
        "id": "qliB0VLEgAnH",
        "outputId": "95450652-a06d-4a56-8026-3e800321630d"
      },
      "source": [
        "model.summary()"
      ],
      "execution_count": 28,
      "outputs": [
        {
          "output_type": "stream",
          "text": [
            "Model: \"sequential\"\n",
            "_________________________________________________________________\n",
            "Layer (type)                 Output Shape              Param #   \n",
            "=================================================================\n",
            "lstm (LSTM)                  (None, 100, 50)           10400     \n",
            "_________________________________________________________________\n",
            "lstm_1 (LSTM)                (None, 100, 50)           20200     \n",
            "_________________________________________________________________\n",
            "lstm_2 (LSTM)                (None, 50)                20200     \n",
            "_________________________________________________________________\n",
            "dense (Dense)                (None, 1)                 51        \n",
            "=================================================================\n",
            "Total params: 50,851\n",
            "Trainable params: 50,851\n",
            "Non-trainable params: 0\n",
            "_________________________________________________________________\n"
          ],
          "name": "stdout"
        }
      ]
    },
    {
      "cell_type": "code",
      "metadata": {
        "colab": {
          "base_uri": "https://localhost:8080/"
        },
        "id": "VNEdhB_pgEI0",
        "outputId": "0ba9ed44-8343-446f-a40f-718ac3b21709"
      },
      "source": [
        "model.fit(X_train,y_train,validation_data=(X_test,ytest),epochs=100,batch_size=64,verbose=1)"
      ],
      "execution_count": 29,
      "outputs": [
        {
          "output_type": "stream",
          "text": [
            "Epoch 1/100\n",
            "12/12 [==============================] - 10s 318ms/step - loss: 0.0167 - val_loss: 0.0547\n",
            "Epoch 2/100\n",
            "12/12 [==============================] - 2s 203ms/step - loss: 0.0036 - val_loss: 0.0039\n",
            "Epoch 3/100\n",
            "12/12 [==============================] - 3s 214ms/step - loss: 0.0012 - val_loss: 0.0043\n",
            "Epoch 4/100\n",
            "12/12 [==============================] - 2s 199ms/step - loss: 6.8221e-04 - val_loss: 0.0038\n",
            "Epoch 5/100\n",
            "12/12 [==============================] - 2s 202ms/step - loss: 5.9472e-04 - val_loss: 0.0035\n",
            "Epoch 6/100\n",
            "12/12 [==============================] - 2s 208ms/step - loss: 5.6992e-04 - val_loss: 0.0034\n",
            "Epoch 7/100\n",
            "12/12 [==============================] - 2s 205ms/step - loss: 5.5058e-04 - val_loss: 0.0033\n",
            "Epoch 8/100\n",
            "12/12 [==============================] - 2s 208ms/step - loss: 5.5516e-04 - val_loss: 0.0034\n",
            "Epoch 9/100\n",
            "12/12 [==============================] - 2s 201ms/step - loss: 5.4139e-04 - val_loss: 0.0032\n",
            "Epoch 10/100\n",
            "12/12 [==============================] - 2s 206ms/step - loss: 5.4852e-04 - val_loss: 0.0031\n",
            "Epoch 11/100\n",
            "12/12 [==============================] - 2s 203ms/step - loss: 5.2162e-04 - val_loss: 0.0030\n",
            "Epoch 12/100\n",
            "12/12 [==============================] - 2s 203ms/step - loss: 5.1951e-04 - val_loss: 0.0029\n",
            "Epoch 13/100\n",
            "12/12 [==============================] - 3s 211ms/step - loss: 5.1250e-04 - val_loss: 0.0031\n",
            "Epoch 14/100\n",
            "12/12 [==============================] - 2s 204ms/step - loss: 5.2658e-04 - val_loss: 0.0031\n",
            "Epoch 15/100\n",
            "12/12 [==============================] - 2s 206ms/step - loss: 4.9177e-04 - val_loss: 0.0029\n",
            "Epoch 16/100\n",
            "12/12 [==============================] - 3s 210ms/step - loss: 5.0482e-04 - val_loss: 0.0026\n",
            "Epoch 17/100\n",
            "12/12 [==============================] - 2s 203ms/step - loss: 5.0025e-04 - val_loss: 0.0025\n",
            "Epoch 18/100\n",
            "12/12 [==============================] - 2s 207ms/step - loss: 5.6290e-04 - val_loss: 0.0036\n",
            "Epoch 19/100\n",
            "12/12 [==============================] - 3s 210ms/step - loss: 5.5501e-04 - val_loss: 0.0025\n",
            "Epoch 20/100\n",
            "12/12 [==============================] - 2s 209ms/step - loss: 4.8434e-04 - val_loss: 0.0030\n",
            "Epoch 21/100\n",
            "12/12 [==============================] - 2s 206ms/step - loss: 5.2430e-04 - val_loss: 0.0023\n",
            "Epoch 22/100\n",
            "12/12 [==============================] - 2s 201ms/step - loss: 4.7556e-04 - val_loss: 0.0023\n",
            "Epoch 23/100\n",
            "12/12 [==============================] - 2s 202ms/step - loss: 4.3863e-04 - val_loss: 0.0023\n",
            "Epoch 24/100\n",
            "12/12 [==============================] - 2s 204ms/step - loss: 4.2696e-04 - val_loss: 0.0028\n",
            "Epoch 25/100\n",
            "12/12 [==============================] - 2s 205ms/step - loss: 4.8671e-04 - val_loss: 0.0024\n",
            "Epoch 26/100\n",
            "12/12 [==============================] - 2s 205ms/step - loss: 4.3982e-04 - val_loss: 0.0020\n",
            "Epoch 27/100\n",
            "12/12 [==============================] - 2s 201ms/step - loss: 4.2664e-04 - val_loss: 0.0019\n",
            "Epoch 28/100\n",
            "12/12 [==============================] - 2s 207ms/step - loss: 4.1871e-04 - val_loss: 0.0022\n",
            "Epoch 29/100\n",
            "12/12 [==============================] - 2s 205ms/step - loss: 4.0799e-04 - val_loss: 0.0018\n",
            "Epoch 30/100\n",
            "12/12 [==============================] - 2s 203ms/step - loss: 3.9375e-04 - val_loss: 0.0017\n",
            "Epoch 31/100\n",
            "12/12 [==============================] - 3s 220ms/step - loss: 3.7766e-04 - val_loss: 0.0019\n",
            "Epoch 32/100\n",
            "12/12 [==============================] - 2s 201ms/step - loss: 3.6876e-04 - val_loss: 0.0016\n",
            "Epoch 33/100\n",
            "12/12 [==============================] - 2s 207ms/step - loss: 3.6636e-04 - val_loss: 0.0017\n",
            "Epoch 34/100\n",
            "12/12 [==============================] - 3s 210ms/step - loss: 3.6803e-04 - val_loss: 0.0016\n",
            "Epoch 35/100\n",
            "12/12 [==============================] - 2s 208ms/step - loss: 3.6866e-04 - val_loss: 0.0016\n",
            "Epoch 36/100\n",
            "12/12 [==============================] - 3s 219ms/step - loss: 3.5278e-04 - val_loss: 0.0015\n",
            "Epoch 37/100\n",
            "12/12 [==============================] - 2s 210ms/step - loss: 3.4442e-04 - val_loss: 0.0015\n",
            "Epoch 38/100\n",
            "12/12 [==============================] - 3s 215ms/step - loss: 3.3254e-04 - val_loss: 0.0016\n",
            "Epoch 39/100\n",
            "12/12 [==============================] - 3s 218ms/step - loss: 3.3654e-04 - val_loss: 0.0015\n",
            "Epoch 40/100\n",
            "12/12 [==============================] - 2s 209ms/step - loss: 3.1295e-04 - val_loss: 0.0018\n",
            "Epoch 41/100\n",
            "12/12 [==============================] - 3s 212ms/step - loss: 3.3494e-04 - val_loss: 0.0014\n",
            "Epoch 42/100\n",
            "12/12 [==============================] - 2s 206ms/step - loss: 3.2509e-04 - val_loss: 0.0025\n",
            "Epoch 43/100\n",
            "12/12 [==============================] - 2s 209ms/step - loss: 3.3620e-04 - val_loss: 0.0013\n",
            "Epoch 44/100\n",
            "12/12 [==============================] - 3s 213ms/step - loss: 2.8900e-04 - val_loss: 0.0021\n",
            "Epoch 45/100\n",
            "12/12 [==============================] - 2s 206ms/step - loss: 2.9696e-04 - val_loss: 0.0013\n",
            "Epoch 46/100\n",
            "12/12 [==============================] - 2s 206ms/step - loss: 2.8376e-04 - val_loss: 0.0015\n",
            "Epoch 47/100\n",
            "12/12 [==============================] - 2s 204ms/step - loss: 2.7454e-04 - val_loss: 0.0013\n",
            "Epoch 48/100\n",
            "12/12 [==============================] - 2s 203ms/step - loss: 2.7090e-04 - val_loss: 0.0015\n",
            "Epoch 49/100\n",
            "12/12 [==============================] - 3s 213ms/step - loss: 2.6498e-04 - val_loss: 0.0015\n",
            "Epoch 50/100\n",
            "12/12 [==============================] - 2s 204ms/step - loss: 2.5316e-04 - val_loss: 0.0015\n",
            "Epoch 51/100\n",
            "12/12 [==============================] - 2s 208ms/step - loss: 2.4175e-04 - val_loss: 0.0012\n",
            "Epoch 52/100\n",
            "12/12 [==============================] - 3s 211ms/step - loss: 2.4423e-04 - val_loss: 0.0013\n",
            "Epoch 53/100\n",
            "12/12 [==============================] - 2s 201ms/step - loss: 2.3145e-04 - val_loss: 0.0012\n",
            "Epoch 54/100\n",
            "12/12 [==============================] - 3s 214ms/step - loss: 2.6473e-04 - val_loss: 0.0014\n",
            "Epoch 55/100\n",
            "12/12 [==============================] - 2s 203ms/step - loss: 2.4985e-04 - val_loss: 0.0012\n",
            "Epoch 56/100\n",
            "12/12 [==============================] - 2s 206ms/step - loss: 2.2424e-04 - val_loss: 0.0011\n",
            "Epoch 57/100\n",
            "12/12 [==============================] - 3s 219ms/step - loss: 2.3301e-04 - val_loss: 0.0015\n",
            "Epoch 58/100\n",
            "12/12 [==============================] - 2s 208ms/step - loss: 2.0927e-04 - val_loss: 0.0011\n",
            "Epoch 59/100\n",
            "12/12 [==============================] - 3s 212ms/step - loss: 2.1965e-04 - val_loss: 0.0013\n",
            "Epoch 60/100\n",
            "12/12 [==============================] - 2s 206ms/step - loss: 2.0124e-04 - val_loss: 0.0011\n",
            "Epoch 61/100\n",
            "12/12 [==============================] - 2s 201ms/step - loss: 2.0744e-04 - val_loss: 0.0025\n",
            "Epoch 62/100\n",
            "12/12 [==============================] - 3s 214ms/step - loss: 2.9000e-04 - val_loss: 0.0011\n",
            "Epoch 63/100\n",
            "12/12 [==============================] - 2s 206ms/step - loss: 2.3028e-04 - val_loss: 0.0011\n",
            "Epoch 64/100\n",
            "12/12 [==============================] - 3s 211ms/step - loss: 1.9386e-04 - val_loss: 0.0015\n",
            "Epoch 65/100\n",
            "12/12 [==============================] - 2s 205ms/step - loss: 1.9403e-04 - val_loss: 0.0014\n",
            "Epoch 66/100\n",
            "12/12 [==============================] - 2s 202ms/step - loss: 1.7972e-04 - val_loss: 0.0010\n",
            "Epoch 67/100\n",
            "12/12 [==============================] - 2s 210ms/step - loss: 1.9003e-04 - val_loss: 0.0011\n",
            "Epoch 68/100\n",
            "12/12 [==============================] - 2s 205ms/step - loss: 1.9885e-04 - val_loss: 0.0016\n",
            "Epoch 69/100\n",
            "12/12 [==============================] - 2s 209ms/step - loss: 2.0528e-04 - val_loss: 0.0010\n",
            "Epoch 70/100\n",
            "12/12 [==============================] - 2s 204ms/step - loss: 1.9167e-04 - val_loss: 9.5157e-04\n",
            "Epoch 71/100\n",
            "12/12 [==============================] - 2s 202ms/step - loss: 1.8766e-04 - val_loss: 0.0012\n",
            "Epoch 72/100\n",
            "12/12 [==============================] - 3s 214ms/step - loss: 1.7404e-04 - val_loss: 9.7504e-04\n",
            "Epoch 73/100\n",
            "12/12 [==============================] - 2s 205ms/step - loss: 1.7302e-04 - val_loss: 9.0995e-04\n",
            "Epoch 74/100\n",
            "12/12 [==============================] - 2s 204ms/step - loss: 1.7028e-04 - val_loss: 0.0011\n",
            "Epoch 75/100\n",
            "12/12 [==============================] - 2s 204ms/step - loss: 1.6483e-04 - val_loss: 9.9102e-04\n",
            "Epoch 76/100\n",
            "12/12 [==============================] - 2s 201ms/step - loss: 1.6839e-04 - val_loss: 0.0011\n",
            "Epoch 77/100\n",
            "12/12 [==============================] - 2s 208ms/step - loss: 1.5707e-04 - val_loss: 0.0010\n",
            "Epoch 78/100\n",
            "12/12 [==============================] - 2s 205ms/step - loss: 1.7049e-04 - val_loss: 8.8974e-04\n",
            "Epoch 79/100\n",
            "12/12 [==============================] - 2s 205ms/step - loss: 1.6091e-04 - val_loss: 8.3219e-04\n",
            "Epoch 80/100\n",
            "12/12 [==============================] - 2s 210ms/step - loss: 1.5096e-04 - val_loss: 9.2090e-04\n",
            "Epoch 81/100\n",
            "12/12 [==============================] - 2s 203ms/step - loss: 1.6703e-04 - val_loss: 0.0011\n",
            "Epoch 82/100\n",
            "12/12 [==============================] - 2s 205ms/step - loss: 1.7981e-04 - val_loss: 0.0023\n",
            "Epoch 83/100\n",
            "12/12 [==============================] - 2s 201ms/step - loss: 2.6280e-04 - val_loss: 0.0012\n",
            "Epoch 84/100\n",
            "12/12 [==============================] - 2s 202ms/step - loss: 1.6964e-04 - val_loss: 8.3100e-04\n",
            "Epoch 85/100\n",
            "12/12 [==============================] - 3s 212ms/step - loss: 1.5702e-04 - val_loss: 8.7770e-04\n",
            "Epoch 86/100\n",
            "12/12 [==============================] - 2s 199ms/step - loss: 1.6033e-04 - val_loss: 0.0011\n",
            "Epoch 87/100\n",
            "12/12 [==============================] - 2s 208ms/step - loss: 1.5306e-04 - val_loss: 8.0072e-04\n",
            "Epoch 88/100\n",
            "12/12 [==============================] - 2s 201ms/step - loss: 1.3454e-04 - val_loss: 7.8284e-04\n",
            "Epoch 89/100\n",
            "12/12 [==============================] - 2s 202ms/step - loss: 1.3501e-04 - val_loss: 0.0013\n",
            "Epoch 90/100\n",
            "12/12 [==============================] - 3s 210ms/step - loss: 1.7030e-04 - val_loss: 7.8896e-04\n",
            "Epoch 91/100\n",
            "12/12 [==============================] - 2s 200ms/step - loss: 1.3473e-04 - val_loss: 0.0011\n",
            "Epoch 92/100\n",
            "12/12 [==============================] - 2s 206ms/step - loss: 1.5738e-04 - val_loss: 0.0017\n",
            "Epoch 93/100\n",
            "12/12 [==============================] - 2s 201ms/step - loss: 1.8759e-04 - val_loss: 7.5669e-04\n",
            "Epoch 94/100\n",
            "12/12 [==============================] - 2s 204ms/step - loss: 1.6268e-04 - val_loss: 9.1292e-04\n",
            "Epoch 95/100\n",
            "12/12 [==============================] - 2s 205ms/step - loss: 1.4594e-04 - val_loss: 8.3215e-04\n",
            "Epoch 96/100\n",
            "12/12 [==============================] - 2s 199ms/step - loss: 1.3657e-04 - val_loss: 8.1252e-04\n",
            "Epoch 97/100\n",
            "12/12 [==============================] - 2s 206ms/step - loss: 1.5083e-04 - val_loss: 9.8360e-04\n",
            "Epoch 98/100\n",
            "12/12 [==============================] - 2s 203ms/step - loss: 1.3633e-04 - val_loss: 9.9034e-04\n",
            "Epoch 99/100\n",
            "12/12 [==============================] - 2s 199ms/step - loss: 1.4969e-04 - val_loss: 8.8217e-04\n",
            "Epoch 100/100\n",
            "12/12 [==============================] - 2s 206ms/step - loss: 1.3387e-04 - val_loss: 7.3758e-04\n"
          ],
          "name": "stdout"
        },
        {
          "output_type": "execute_result",
          "data": {
            "text/plain": [
              "<tensorflow.python.keras.callbacks.History at 0x7f593b9e12d0>"
            ]
          },
          "metadata": {
            "tags": []
          },
          "execution_count": 29
        }
      ]
    },
    {
      "cell_type": "code",
      "metadata": {
        "id": "hr-sDAMEhOXj"
      },
      "source": [
        "import tensorflow as tf"
      ],
      "execution_count": 30,
      "outputs": []
    },
    {
      "cell_type": "code",
      "metadata": {
        "id": "4i7E8GbuhYgx"
      },
      "source": [
        "#prediction and perfomance metrics\n",
        "train_predict=model.predict(X_train)\n",
        "test_predict=model.predict(X_test)"
      ],
      "execution_count": 34,
      "outputs": []
    },
    {
      "cell_type": "code",
      "metadata": {
        "id": "d_BwYbzAhuDa"
      },
      "source": [
        "#transform to original form\n",
        "train_predict=scaler.inverse_transform(train_predict)\n",
        "test_predict=scaler.inverse_transform(test_predict)\n"
      ],
      "execution_count": 35,
      "outputs": []
    },
    {
      "cell_type": "code",
      "metadata": {
        "colab": {
          "base_uri": "https://localhost:8080/"
        },
        "id": "PCm1glv4iGjq",
        "outputId": "924e6baa-6bc4-46d1-a005-627870275a6f"
      },
      "source": [
        "#caluclate RMSE perfomance metrics\n",
        "import math\n",
        "from sklearn.metrics import mean_squared_error\n",
        "math.sqrt(mean_squared_error(y_train,train_predict))"
      ],
      "execution_count": 36,
      "outputs": [
        {
          "output_type": "execute_result",
          "data": {
            "text/plain": [
              "141.05612869988107"
            ]
          },
          "metadata": {
            "tags": []
          },
          "execution_count": 36
        }
      ]
    },
    {
      "cell_type": "code",
      "metadata": {
        "colab": {
          "base_uri": "https://localhost:8080/"
        },
        "id": "H7fU23i2iZ_E",
        "outputId": "166ee9bf-3238-4d88-d918-6d866aa17a10"
      },
      "source": [
        "## test Data RMSE\n",
        "math.sqrt(mean_squared_error(ytest,test_predict))"
      ],
      "execution_count": 37,
      "outputs": [
        {
          "output_type": "execute_result",
          "data": {
            "text/plain": [
              "237.13183463103113"
            ]
          },
          "metadata": {
            "tags": []
          },
          "execution_count": 37
        }
      ]
    },
    {
      "cell_type": "code",
      "metadata": {
        "colab": {
          "base_uri": "https://localhost:8080/",
          "height": 282
        },
        "id": "pOWuz24Qil80",
        "outputId": "11e134b5-9f47-4845-d285-31165379c62e"
      },
      "source": [
        "### Plotting \n",
        "# shift train predictions for plotting\n",
        "look_back=100\n",
        "trainPredictPlot = numpy.empty_like(df1)\n",
        "trainPredictPlot[:, :] = np.nan\n",
        "trainPredictPlot[look_back:len(train_predict)+look_back, :] = train_predict\n",
        "# shift test predictions for plotting\n",
        "testPredictPlot = numpy.empty_like(df1)\n",
        "testPredictPlot[:, :] = numpy.nan\n",
        "testPredictPlot[len(train_predict)+(look_back*2)+1:len(df1)-1, :] = test_predict\n",
        "# plot baseline and predictions\n",
        "plt.plot(scaler.inverse_transform(df1))\n",
        "plt.plot(trainPredictPlot)\n",
        "plt.plot(testPredictPlot)\n",
        "plt.legend()\n",
        "plt.show()"
      ],
      "execution_count": 39,
      "outputs": [
        {
          "output_type": "stream",
          "text": [
            "No handles with labels found to put in legend.\n"
          ],
          "name": "stderr"
        },
        {
          "output_type": "display_data",
          "data": {
            "image/png": "[encoded data removed]",
            "text/plain": [
              "<Figure size 432x288 with 1 Axes>"
            ]
          },
          "metadata": {
            "tags": [],
            "needs_background": "light"
          }
        }
      ]
    },
    {
      "cell_type": "code",
      "metadata": {
        "colab": {
          "base_uri": "https://localhost:8080/"
        },
        "id": "cuVfKnf5jcjx",
        "outputId": "f3f23577-f7a8-42c1-fee0-d30d3593c997"
      },
      "source": [
        "x_input=test_data[341:].reshape(1,-1)\n",
        "x_input.shape"
      ],
      "execution_count": 40,
      "outputs": [
        {
          "output_type": "execute_result",
          "data": {
            "text/plain": [
              "(1, 100)"
            ]
          },
          "metadata": {
            "tags": []
          },
          "execution_count": 40
        }
      ]
    },
    {
      "cell_type": "code",
      "metadata": {
        "id": "btVqv_RGlR75"
      },
      "source": [
        "temp_input=list(x_input)\n",
        "temp_input=temp_input[0].tolist()"
      ],
      "execution_count": 41,
      "outputs": []
    },
    {
      "cell_type": "code",
      "metadata": {
        "colab": {
          "base_uri": "https://localhost:8080/"
        },
        "id": "gUfO9UNglUiW",
        "outputId": "287f76ce-a1a2-4466-e295-89c2545a5560"
      },
      "source": [
        "temp_input"
      ],
      "execution_count": 42,
      "outputs": [
        {
          "output_type": "execute_result",
          "data": {
            "text/plain": [
              "[0.8583551465000423,\n",
              " 0.8866418981676942,\n",
              " 0.8743139407244789,\n",
              " 0.8843198513890065,\n",
              " 0.8783669678290975,\n",
              " 0.8986321033521913,\n",
              " 0.925821160179009,\n",
              " 0.9287764924427933,\n",
              " 0.9567677108840666,\n",
              " 0.9386979650426415,\n",
              " 0.933040614709111,\n",
              " 0.9495060373216249,\n",
              " 0.9642404796082076,\n",
              " 0.9551211686228154,\n",
              " 0.9598919192772104,\n",
              " 0.9663514312251966,\n",
              " 0.9624672802499368,\n",
              " 0.9229502659799038,\n",
              " 0.9598497002448705,\n",
              " 0.9879253567508233,\n",
              " 0.985941062230854,\n",
              " 0.9253145317909315,\n",
              " 0.9217259140420504,\n",
              " 0.964747107996285,\n",
              " 0.9757240564046274,\n",
              " 0.9915984125643842,\n",
              " 0.9697289538123788,\n",
              " 0.9761462467280253,\n",
              " 0.9679557544541082,\n",
              " 1.0000000000000002,\n",
              " 0.9901629654648318,\n",
              " 0.9905007177235499,\n",
              " 0.9653803934813816,\n",
              " 0.9848855864223593,\n",
              " 0.9708688676855528,\n",
              " 0.9402600692392133,\n",
              " 0.8774803681499621,\n",
              " 0.8348391454867856,\n",
              " 0.8541332432660644,\n",
              " 0.7733682344000676,\n",
              " 0.7726927298826314,\n",
              " 0.8801401671873683,\n",
              " 0.8400743054969182,\n",
              " 0.8967322468969012,\n",
              " 0.8552731571392387,\n",
              " 0.8388499535590646,\n",
              " 0.7423372456303303,\n",
              " 0.8232711306256861,\n",
              " 0.7814320695769654,\n",
              " 0.6665963016127672,\n",
              " 0.7921557037912694,\n",
              " 0.6411804441442204,\n",
              " 0.6861437135860848,\n",
              " 0.6600101325677616,\n",
              " 0.6520307354555435,\n",
              " 0.5864223591995272,\n",
              " 0.5658616904500551,\n",
              " 0.660896732246897,\n",
              " 0.6551549438486872,\n",
              " 0.7097019336316812,\n",
              " 0.664527569028118,\n",
              " 0.6943764248923416,\n",
              " 0.692181035210673,\n",
              " 0.6356919699400492,\n",
              " 0.6526640209406402,\n",
              " 0.637802921557038,\n",
              " 0.7267162036646122,\n",
              " 0.7138816178333194,\n",
              " 0.7419150553069325,\n",
              " 0.7500211095161702,\n",
              " 0.7722283205268936,\n",
              " 0.8304905851557884,\n",
              " 0.8194291986827664,\n",
              " 0.8289706999915563,\n",
              " 0.8125474964113824,\n",
              " 0.7877649244279323,\n",
              " 0.7516254327450818,\n",
              " 0.7842607447437306,\n",
              " 0.7797433082833742,\n",
              " 0.8132652199611587,\n",
              " 0.8141096006079542,\n",
              " 0.7947310647639958,\n",
              " 0.8333614793548934,\n",
              " 0.8589884319851391,\n",
              " 0.8390188296884238,\n",
              " 0.8562864139153934,\n",
              " 0.8748627881448958,\n",
              " 0.887824031073208,\n",
              " 0.9009541501308793,\n",
              " 0.9279321117959978,\n",
              " 0.9485349995778098,\n",
              " 0.9333361479354896,\n",
              " 0.9174617917757326,\n",
              " 0.925441188887951,\n",
              " 0.9177151059697712,\n",
              " 0.9483239044161109,\n",
              " 0.9406400405302711,\n",
              " 0.9663514312251966,\n",
              " 0.9563033015283293,\n",
              " 0.964915984125644]"
            ]
          },
          "metadata": {
            "tags": []
          },
          "execution_count": 42
        }
      ]
    },
    {
      "cell_type": "code",
      "metadata": {
        "colab": {
          "base_uri": "https://localhost:8080/"
        },
        "id": "Y6ldprhblXRj",
        "outputId": "6c0fa182-b53c-4c58-f931-2685f21df24c"
      },
      "source": [
        "from numpy import array\n",
        "\n",
        "lst_output=[]\n",
        "n_steps=100\n",
        "i=0\n",
        "while(i<30):\n",
        "    \n",
        "    if(len(temp_input)>100):\n",
        "        #print(temp_input)\n",
        "        x_input=np.array(temp_input[1:])\n",
        "        print(\"{} day input {}\".format(i,x_input))\n",
        "        x_input=x_input.reshape(1,-1)\n",
        "        x_input = x_input.reshape((1, n_steps, 1))\n",
        "        #print(x_input)\n",
        "        yhat = model.predict(x_input, verbose=0)\n",
        "        print(\"{} day output {}\".format(i,yhat))\n",
        "        temp_input.extend(yhat[0].tolist())\n",
        "        temp_input=temp_input[1:]\n",
        "        #print(temp_input)\n",
        "        lst_output.extend(yhat.tolist())\n",
        "        i=i+1\n",
        "    else:\n",
        "        x_input = x_input.reshape((1, n_steps,1))\n",
        "        yhat = model.predict(x_input, verbose=0)\n",
        "        print(yhat[0])\n",
        "        temp_input.extend(yhat[0].tolist())\n",
        "        print(len(temp_input))\n",
        "        lst_output.extend(yhat.tolist())\n",
        "        i=i+1\n",
        "    \n",
        "\n",
        "print(lst_output)"
      ],
      "execution_count": 43,
      "outputs": [
        {
          "output_type": "stream",
          "text": [
            "[0.957987]\n",
            "101\n",
            "1 day input [0.8866419  0.87431394 0.88431985 0.87836697 0.8986321  0.92582116\n",
            " 0.92877649 0.95676771 0.93869797 0.93304061 0.94950604 0.96424048\n",
            " 0.95512117 0.95989192 0.96635143 0.96246728 0.92295027 0.9598497\n",
            " 0.98792536 0.98594106 0.92531453 0.92172591 0.96474711 0.97572406\n",
            " 0.99159841 0.96972895 0.97614625 0.96795575 1.         0.99016297\n",
            " 0.99050072 0.96538039 0.98488559 0.97086887 0.94026007 0.87748037\n",
            " 0.83483915 0.85413324 0.77336823 0.77269273 0.88014017 0.84007431\n",
            " 0.89673225 0.85527316 0.83884995 0.74233725 0.82327113 0.78143207\n",
            " 0.6665963  0.7921557  0.64118044 0.68614371 0.66001013 0.65203074\n",
            " 0.58642236 0.56586169 0.66089673 0.65515494 0.70970193 0.66452757\n",
            " 0.69437642 0.69218104 0.63569197 0.65266402 0.63780292 0.7267162\n",
            " 0.71388162 0.74191506 0.75002111 0.77222832 0.83049059 0.8194292\n",
            " 0.8289707  0.8125475  0.78776492 0.75162543 0.78426074 0.77974331\n",
            " 0.81326522 0.8141096  0.79473106 0.83336148 0.85898843 0.83901883\n",
            " 0.85628641 0.87486279 0.88782403 0.90095415 0.92793211 0.948535\n",
            " 0.93333615 0.91746179 0.92544119 0.91771511 0.9483239  0.94064004\n",
            " 0.96635143 0.9563033  0.96491598 0.95798701]\n",
            "1 day output [[0.95646113]]\n",
            "2 day input [0.87431394 0.88431985 0.87836697 0.8986321  0.92582116 0.92877649\n",
            " 0.95676771 0.93869797 0.93304061 0.94950604 0.96424048 0.95512117\n",
            " 0.95989192 0.96635143 0.96246728 0.92295027 0.9598497  0.98792536\n",
            " 0.98594106 0.92531453 0.92172591 0.96474711 0.97572406 0.99159841\n",
            " 0.96972895 0.97614625 0.96795575 1.         0.99016297 0.99050072\n",
            " 0.96538039 0.98488559 0.97086887 0.94026007 0.87748037 0.83483915\n",
            " 0.85413324 0.77336823 0.77269273 0.88014017 0.84007431 0.89673225\n",
            " 0.85527316 0.83884995 0.74233725 0.82327113 0.78143207 0.6665963\n",
            " 0.7921557  0.64118044 0.68614371 0.66001013 0.65203074 0.58642236\n",
            " 0.56586169 0.66089673 0.65515494 0.70970193 0.66452757 0.69437642\n",
            " 0.69218104 0.63569197 0.65266402 0.63780292 0.7267162  0.71388162\n",
            " 0.74191506 0.75002111 0.77222832 0.83049059 0.8194292  0.8289707\n",
            " 0.8125475  0.78776492 0.75162543 0.78426074 0.77974331 0.81326522\n",
            " 0.8141096  0.79473106 0.83336148 0.85898843 0.83901883 0.85628641\n",
            " 0.87486279 0.88782403 0.90095415 0.92793211 0.948535   0.93333615\n",
            " 0.91746179 0.92544119 0.91771511 0.9483239  0.94064004 0.96635143\n",
            " 0.9563033  0.96491598 0.95798701 0.95646113]\n",
            "2 day output [[0.9536815]]\n",
            "3 day input [0.88431985 0.87836697 0.8986321  0.92582116 0.92877649 0.95676771\n",
            " 0.93869797 0.93304061 0.94950604 0.96424048 0.95512117 0.95989192\n",
            " 0.96635143 0.96246728 0.92295027 0.9598497  0.98792536 0.98594106\n",
            " 0.92531453 0.92172591 0.96474711 0.97572406 0.99159841 0.96972895\n",
            " 0.97614625 0.96795575 1.         0.99016297 0.99050072 0.96538039\n",
            " 0.98488559 0.97086887 0.94026007 0.87748037 0.83483915 0.85413324\n",
            " 0.77336823 0.77269273 0.88014017 0.84007431 0.89673225 0.85527316\n",
            " 0.83884995 0.74233725 0.82327113 0.78143207 0.6665963  0.7921557\n",
            " 0.64118044 0.68614371 0.66001013 0.65203074 0.58642236 0.56586169\n",
            " 0.66089673 0.65515494 0.70970193 0.66452757 0.69437642 0.69218104\n",
            " 0.63569197 0.65266402 0.63780292 0.7267162  0.71388162 0.74191506\n",
            " 0.75002111 0.77222832 0.83049059 0.8194292  0.8289707  0.8125475\n",
            " 0.78776492 0.75162543 0.78426074 0.77974331 0.81326522 0.8141096\n",
            " 0.79473106 0.83336148 0.85898843 0.83901883 0.85628641 0.87486279\n",
            " 0.88782403 0.90095415 0.92793211 0.948535   0.93333615 0.91746179\n",
            " 0.92544119 0.91771511 0.9483239  0.94064004 0.96635143 0.9563033\n",
            " 0.96491598 0.95798701 0.95646113 0.95368153]\n",
            "3 day output [[0.9512598]]\n",
            "4 day input [0.87836697 0.8986321  0.92582116 0.92877649 0.95676771 0.93869797\n",
            " 0.93304061 0.94950604 0.96424048 0.95512117 0.95989192 0.96635143\n",
            " 0.96246728 0.92295027 0.9598497  0.98792536 0.98594106 0.92531453\n",
            " 0.92172591 0.96474711 0.97572406 0.99159841 0.96972895 0.97614625\n",
            " 0.96795575 1.         0.99016297 0.99050072 0.96538039 0.98488559\n",
            " 0.97086887 0.94026007 0.87748037 0.83483915 0.85413324 0.77336823\n",
            " 0.77269273 0.88014017 0.84007431 0.89673225 0.85527316 0.83884995\n",
            " 0.74233725 0.82327113 0.78143207 0.6665963  0.7921557  0.64118044\n",
            " 0.68614371 0.66001013 0.65203074 0.58642236 0.56586169 0.66089673\n",
            " 0.65515494 0.70970193 0.66452757 0.69437642 0.69218104 0.63569197\n",
            " 0.65266402 0.63780292 0.7267162  0.71388162 0.74191506 0.75002111\n",
            " 0.77222832 0.83049059 0.8194292  0.8289707  0.8125475  0.78776492\n",
            " 0.75162543 0.78426074 0.77974331 0.81326522 0.8141096  0.79473106\n",
            " 0.83336148 0.85898843 0.83901883 0.85628641 0.87486279 0.88782403\n",
            " 0.90095415 0.92793211 0.948535   0.93333615 0.91746179 0.92544119\n",
            " 0.91771511 0.9483239  0.94064004 0.96635143 0.9563033  0.96491598\n",
            " 0.95798701 0.95646113 0.95368153 0.95125979]\n",
            "4 day output [[0.94966215]]\n",
            "5 day input [0.8986321  0.92582116 0.92877649 0.95676771 0.93869797 0.93304061\n",
            " 0.94950604 0.96424048 0.95512117 0.95989192 0.96635143 0.96246728\n",
            " 0.92295027 0.9598497  0.98792536 0.98594106 0.92531453 0.92172591\n",
            " 0.96474711 0.97572406 0.99159841 0.96972895 0.97614625 0.96795575\n",
            " 1.         0.99016297 0.99050072 0.96538039 0.98488559 0.97086887\n",
            " 0.94026007 0.87748037 0.83483915 0.85413324 0.77336823 0.77269273\n",
            " 0.88014017 0.84007431 0.89673225 0.85527316 0.83884995 0.74233725\n",
            " 0.82327113 0.78143207 0.6665963  0.7921557  0.64118044 0.68614371\n",
            " 0.66001013 0.65203074 0.58642236 0.56586169 0.66089673 0.65515494\n",
            " 0.70970193 0.66452757 0.69437642 0.69218104 0.63569197 0.65266402\n",
            " 0.63780292 0.7267162  0.71388162 0.74191506 0.75002111 0.77222832\n",
            " 0.83049059 0.8194292  0.8289707  0.8125475  0.78776492 0.75162543\n",
            " 0.78426074 0.77974331 0.81326522 0.8141096  0.79473106 0.83336148\n",
            " 0.85898843 0.83901883 0.85628641 0.87486279 0.88782403 0.90095415\n",
            " 0.92793211 0.948535   0.93333615 0.91746179 0.92544119 0.91771511\n",
            " 0.9483239  0.94064004 0.96635143 0.9563033  0.96491598 0.95798701\n",
            " 0.95646113 0.95368153 0.95125979 0.94966215]\n",
            "5 day output [[0.9490311]]\n",
            "6 day input [0.92582116 0.92877649 0.95676771 0.93869797 0.93304061 0.94950604\n",
            " 0.96424048 0.95512117 0.95989192 0.96635143 0.96246728 0.92295027\n",
            " 0.9598497  0.98792536 0.98594106 0.92531453 0.92172591 0.96474711\n",
            " 0.97572406 0.99159841 0.96972895 0.97614625 0.96795575 1.\n",
            " 0.99016297 0.99050072 0.96538039 0.98488559 0.97086887 0.94026007\n",
            " 0.87748037 0.83483915 0.85413324 0.77336823 0.77269273 0.88014017\n",
            " 0.84007431 0.89673225 0.85527316 0.83884995 0.74233725 0.82327113\n",
            " 0.78143207 0.6665963  0.7921557  0.64118044 0.68614371 0.66001013\n",
            " 0.65203074 0.58642236 0.56586169 0.66089673 0.65515494 0.70970193\n",
            " 0.66452757 0.69437642 0.69218104 0.63569197 0.65266402 0.63780292\n",
            " 0.7267162  0.71388162 0.74191506 0.75002111 0.77222832 0.83049059\n",
            " 0.8194292  0.8289707  0.8125475  0.78776492 0.75162543 0.78426074\n",
            " 0.77974331 0.81326522 0.8141096  0.79473106 0.83336148 0.85898843\n",
            " 0.83901883 0.85628641 0.87486279 0.88782403 0.90095415 0.92793211\n",
            " 0.948535   0.93333615 0.91746179 0.92544119 0.91771511 0.9483239\n",
            " 0.94064004 0.96635143 0.9563033  0.96491598 0.95798701 0.95646113\n",
            " 0.95368153 0.95125979 0.94966215 0.94903111]\n",
            "6 day output [[0.9493567]]\n",
            "7 day input [0.92877649 0.95676771 0.93869797 0.93304061 0.94950604 0.96424048\n",
            " 0.95512117 0.95989192 0.96635143 0.96246728 0.92295027 0.9598497\n",
            " 0.98792536 0.98594106 0.92531453 0.92172591 0.96474711 0.97572406\n",
            " 0.99159841 0.96972895 0.97614625 0.96795575 1.         0.99016297\n",
            " 0.99050072 0.96538039 0.98488559 0.97086887 0.94026007 0.87748037\n",
            " 0.83483915 0.85413324 0.77336823 0.77269273 0.88014017 0.84007431\n",
            " 0.89673225 0.85527316 0.83884995 0.74233725 0.82327113 0.78143207\n",
            " 0.6665963  0.7921557  0.64118044 0.68614371 0.66001013 0.65203074\n",
            " 0.58642236 0.56586169 0.66089673 0.65515494 0.70970193 0.66452757\n",
            " 0.69437642 0.69218104 0.63569197 0.65266402 0.63780292 0.7267162\n",
            " 0.71388162 0.74191506 0.75002111 0.77222832 0.83049059 0.8194292\n",
            " 0.8289707  0.8125475  0.78776492 0.75162543 0.78426074 0.77974331\n",
            " 0.81326522 0.8141096  0.79473106 0.83336148 0.85898843 0.83901883\n",
            " 0.85628641 0.87486279 0.88782403 0.90095415 0.92793211 0.948535\n",
            " 0.93333615 0.91746179 0.92544119 0.91771511 0.9483239  0.94064004\n",
            " 0.96635143 0.9563033  0.96491598 0.95798701 0.95646113 0.95368153\n",
            " 0.95125979 0.94966215 0.94903111 0.94935668]\n",
            "7 day output [[0.9505027]]\n",
            "8 day input [0.95676771 0.93869797 0.93304061 0.94950604 0.96424048 0.95512117\n",
            " 0.95989192 0.96635143 0.96246728 0.92295027 0.9598497  0.98792536\n",
            " 0.98594106 0.92531453 0.92172591 0.96474711 0.97572406 0.99159841\n",
            " 0.96972895 0.97614625 0.96795575 1.         0.99016297 0.99050072\n",
            " 0.96538039 0.98488559 0.97086887 0.94026007 0.87748037 0.83483915\n",
            " 0.85413324 0.77336823 0.77269273 0.88014017 0.84007431 0.89673225\n",
            " 0.85527316 0.83884995 0.74233725 0.82327113 0.78143207 0.6665963\n",
            " 0.7921557  0.64118044 0.68614371 0.66001013 0.65203074 0.58642236\n",
            " 0.56586169 0.66089673 0.65515494 0.70970193 0.66452757 0.69437642\n",
            " 0.69218104 0.63569197 0.65266402 0.63780292 0.7267162  0.71388162\n",
            " 0.74191506 0.75002111 0.77222832 0.83049059 0.8194292  0.8289707\n",
            " 0.8125475  0.78776492 0.75162543 0.78426074 0.77974331 0.81326522\n",
            " 0.8141096  0.79473106 0.83336148 0.85898843 0.83901883 0.85628641\n",
            " 0.87486279 0.88782403 0.90095415 0.92793211 0.948535   0.93333615\n",
            " 0.91746179 0.92544119 0.91771511 0.9483239  0.94064004 0.96635143\n",
            " 0.9563033  0.96491598 0.95798701 0.95646113 0.95368153 0.95125979\n",
            " 0.94966215 0.94903111 0.94935668 0.95050269]\n",
            "8 day output [[0.9522488]]\n",
            "9 day input [0.93869797 0.93304061 0.94950604 0.96424048 0.95512117 0.95989192\n",
            " 0.96635143 0.96246728 0.92295027 0.9598497  0.98792536 0.98594106\n",
            " 0.92531453 0.92172591 0.96474711 0.97572406 0.99159841 0.96972895\n",
            " 0.97614625 0.96795575 1.         0.99016297 0.99050072 0.96538039\n",
            " 0.98488559 0.97086887 0.94026007 0.87748037 0.83483915 0.85413324\n",
            " 0.77336823 0.77269273 0.88014017 0.84007431 0.89673225 0.85527316\n",
            " 0.83884995 0.74233725 0.82327113 0.78143207 0.6665963  0.7921557\n",
            " 0.64118044 0.68614371 0.66001013 0.65203074 0.58642236 0.56586169\n",
            " 0.66089673 0.65515494 0.70970193 0.66452757 0.69437642 0.69218104\n",
            " 0.63569197 0.65266402 0.63780292 0.7267162  0.71388162 0.74191506\n",
            " 0.75002111 0.77222832 0.83049059 0.8194292  0.8289707  0.8125475\n",
            " 0.78776492 0.75162543 0.78426074 0.77974331 0.81326522 0.8141096\n",
            " 0.79473106 0.83336148 0.85898843 0.83901883 0.85628641 0.87486279\n",
            " 0.88782403 0.90095415 0.92793211 0.948535   0.93333615 0.91746179\n",
            " 0.92544119 0.91771511 0.9483239  0.94064004 0.96635143 0.9563033\n",
            " 0.96491598 0.95798701 0.95646113 0.95368153 0.95125979 0.94966215\n",
            " 0.94903111 0.94935668 0.95050269 0.95224881]\n",
            "9 day output [[0.95434624]]\n",
            "10 day input [0.93304061 0.94950604 0.96424048 0.95512117 0.95989192 0.96635143\n",
            " 0.96246728 0.92295027 0.9598497  0.98792536 0.98594106 0.92531453\n",
            " 0.92172591 0.96474711 0.97572406 0.99159841 0.96972895 0.97614625\n",
            " 0.96795575 1.         0.99016297 0.99050072 0.96538039 0.98488559\n",
            " 0.97086887 0.94026007 0.87748037 0.83483915 0.85413324 0.77336823\n",
            " 0.77269273 0.88014017 0.84007431 0.89673225 0.85527316 0.83884995\n",
            " 0.74233725 0.82327113 0.78143207 0.6665963  0.7921557  0.64118044\n",
            " 0.68614371 0.66001013 0.65203074 0.58642236 0.56586169 0.66089673\n",
            " 0.65515494 0.70970193 0.66452757 0.69437642 0.69218104 0.63569197\n",
            " 0.65266402 0.63780292 0.7267162  0.71388162 0.74191506 0.75002111\n",
            " 0.77222832 0.83049059 0.8194292  0.8289707  0.8125475  0.78776492\n",
            " 0.75162543 0.78426074 0.77974331 0.81326522 0.8141096  0.79473106\n",
            " 0.83336148 0.85898843 0.83901883 0.85628641 0.87486279 0.88782403\n",
            " 0.90095415 0.92793211 0.948535   0.93333615 0.91746179 0.92544119\n",
            " 0.91771511 0.9483239  0.94064004 0.96635143 0.9563033  0.96491598\n",
            " 0.95798701 0.95646113 0.95368153 0.95125979 0.94966215 0.94903111\n",
            " 0.94935668 0.95050269 0.95224881 0.95434624]\n",
            "10 day output [[0.9565615]]\n",
            "11 day input [0.94950604 0.96424048 0.95512117 0.95989192 0.96635143 0.96246728\n",
            " 0.92295027 0.9598497  0.98792536 0.98594106 0.92531453 0.92172591\n",
            " 0.96474711 0.97572406 0.99159841 0.96972895 0.97614625 0.96795575\n",
            " 1.         0.99016297 0.99050072 0.96538039 0.98488559 0.97086887\n",
            " 0.94026007 0.87748037 0.83483915 0.85413324 0.77336823 0.77269273\n",
            " 0.88014017 0.84007431 0.89673225 0.85527316 0.83884995 0.74233725\n",
            " 0.82327113 0.78143207 0.6665963  0.7921557  0.64118044 0.68614371\n",
            " 0.66001013 0.65203074 0.58642236 0.56586169 0.66089673 0.65515494\n",
            " 0.70970193 0.66452757 0.69437642 0.69218104 0.63569197 0.65266402\n",
            " 0.63780292 0.7267162  0.71388162 0.74191506 0.75002111 0.77222832\n",
            " 0.83049059 0.8194292  0.8289707  0.8125475  0.78776492 0.75162543\n",
            " 0.78426074 0.77974331 0.81326522 0.8141096  0.79473106 0.83336148\n",
            " 0.85898843 0.83901883 0.85628641 0.87486279 0.88782403 0.90095415\n",
            " 0.92793211 0.948535   0.93333615 0.91746179 0.92544119 0.91771511\n",
            " 0.9483239  0.94064004 0.96635143 0.9563033  0.96491598 0.95798701\n",
            " 0.95646113 0.95368153 0.95125979 0.94966215 0.94903111 0.94935668\n",
            " 0.95050269 0.95224881 0.95434624 0.95656151]\n",
            "11 day output [[0.9587099]]\n",
            "12 day input [0.96424048 0.95512117 0.95989192 0.96635143 0.96246728 0.92295027\n",
            " 0.9598497  0.98792536 0.98594106 0.92531453 0.92172591 0.96474711\n",
            " 0.97572406 0.99159841 0.96972895 0.97614625 0.96795575 1.\n",
            " 0.99016297 0.99050072 0.96538039 0.98488559 0.97086887 0.94026007\n",
            " 0.87748037 0.83483915 0.85413324 0.77336823 0.77269273 0.88014017\n",
            " 0.84007431 0.89673225 0.85527316 0.83884995 0.74233725 0.82327113\n",
            " 0.78143207 0.6665963  0.7921557  0.64118044 0.68614371 0.66001013\n",
            " 0.65203074 0.58642236 0.56586169 0.66089673 0.65515494 0.70970193\n",
            " 0.66452757 0.69437642 0.69218104 0.63569197 0.65266402 0.63780292\n",
            " 0.7267162  0.71388162 0.74191506 0.75002111 0.77222832 0.83049059\n",
            " 0.8194292  0.8289707  0.8125475  0.78776492 0.75162543 0.78426074\n",
            " 0.77974331 0.81326522 0.8141096  0.79473106 0.83336148 0.85898843\n",
            " 0.83901883 0.85628641 0.87486279 0.88782403 0.90095415 0.92793211\n",
            " 0.948535   0.93333615 0.91746179 0.92544119 0.91771511 0.9483239\n",
            " 0.94064004 0.96635143 0.9563033  0.96491598 0.95798701 0.95646113\n",
            " 0.95368153 0.95125979 0.94966215 0.94903111 0.94935668 0.95050269\n",
            " 0.95224881 0.95434624 0.95656151 0.9587099 ]\n",
            "12 day output [[0.9606715]]\n",
            "13 day input [0.95512117 0.95989192 0.96635143 0.96246728 0.92295027 0.9598497\n",
            " 0.98792536 0.98594106 0.92531453 0.92172591 0.96474711 0.97572406\n",
            " 0.99159841 0.96972895 0.97614625 0.96795575 1.         0.99016297\n",
            " 0.99050072 0.96538039 0.98488559 0.97086887 0.94026007 0.87748037\n",
            " 0.83483915 0.85413324 0.77336823 0.77269273 0.88014017 0.84007431\n",
            " 0.89673225 0.85527316 0.83884995 0.74233725 0.82327113 0.78143207\n",
            " 0.6665963  0.7921557  0.64118044 0.68614371 0.66001013 0.65203074\n",
            " 0.58642236 0.56586169 0.66089673 0.65515494 0.70970193 0.66452757\n",
            " 0.69437642 0.69218104 0.63569197 0.65266402 0.63780292 0.7267162\n",
            " 0.71388162 0.74191506 0.75002111 0.77222832 0.83049059 0.8194292\n",
            " 0.8289707  0.8125475  0.78776492 0.75162543 0.78426074 0.77974331\n",
            " 0.81326522 0.8141096  0.79473106 0.83336148 0.85898843 0.83901883\n",
            " 0.85628641 0.87486279 0.88782403 0.90095415 0.92793211 0.948535\n",
            " 0.93333615 0.91746179 0.92544119 0.91771511 0.9483239  0.94064004\n",
            " 0.96635143 0.9563033  0.96491598 0.95798701 0.95646113 0.95368153\n",
            " 0.95125979 0.94966215 0.94903111 0.94935668 0.95050269 0.95224881\n",
            " 0.95434624 0.95656151 0.9587099  0.96067148]\n",
            "13 day output [[0.9623928]]\n",
            "14 day input [0.95989192 0.96635143 0.96246728 0.92295027 0.9598497  0.98792536\n",
            " 0.98594106 0.92531453 0.92172591 0.96474711 0.97572406 0.99159841\n",
            " 0.96972895 0.97614625 0.96795575 1.         0.99016297 0.99050072\n",
            " 0.96538039 0.98488559 0.97086887 0.94026007 0.87748037 0.83483915\n",
            " 0.85413324 0.77336823 0.77269273 0.88014017 0.84007431 0.89673225\n",
            " 0.85527316 0.83884995 0.74233725 0.82327113 0.78143207 0.6665963\n",
            " 0.7921557  0.64118044 0.68614371 0.66001013 0.65203074 0.58642236\n",
            " 0.56586169 0.66089673 0.65515494 0.70970193 0.66452757 0.69437642\n",
            " 0.69218104 0.63569197 0.65266402 0.63780292 0.7267162  0.71388162\n",
            " 0.74191506 0.75002111 0.77222832 0.83049059 0.8194292  0.8289707\n",
            " 0.8125475  0.78776492 0.75162543 0.78426074 0.77974331 0.81326522\n",
            " 0.8141096  0.79473106 0.83336148 0.85898843 0.83901883 0.85628641\n",
            " 0.87486279 0.88782403 0.90095415 0.92793211 0.948535   0.93333615\n",
            " 0.91746179 0.92544119 0.91771511 0.9483239  0.94064004 0.96635143\n",
            " 0.9563033  0.96491598 0.95798701 0.95646113 0.95368153 0.95125979\n",
            " 0.94966215 0.94903111 0.94935668 0.95050269 0.95224881 0.95434624\n",
            " 0.95656151 0.9587099  0.96067148 0.96239281]\n",
            "14 day output [[0.9638782]]\n",
            "15 day input [0.96635143 0.96246728 0.92295027 0.9598497  0.98792536 0.98594106\n",
            " 0.92531453 0.92172591 0.96474711 0.97572406 0.99159841 0.96972895\n",
            " 0.97614625 0.96795575 1.         0.99016297 0.99050072 0.96538039\n",
            " 0.98488559 0.97086887 0.94026007 0.87748037 0.83483915 0.85413324\n",
            " 0.77336823 0.77269273 0.88014017 0.84007431 0.89673225 0.85527316\n",
            " 0.83884995 0.74233725 0.82327113 0.78143207 0.6665963  0.7921557\n",
            " 0.64118044 0.68614371 0.66001013 0.65203074 0.58642236 0.56586169\n",
            " 0.66089673 0.65515494 0.70970193 0.66452757 0.69437642 0.69218104\n",
            " 0.63569197 0.65266402 0.63780292 0.7267162  0.71388162 0.74191506\n",
            " 0.75002111 0.77222832 0.83049059 0.8194292  0.8289707  0.8125475\n",
            " 0.78776492 0.75162543 0.78426074 0.77974331 0.81326522 0.8141096\n",
            " 0.79473106 0.83336148 0.85898843 0.83901883 0.85628641 0.87486279\n",
            " 0.88782403 0.90095415 0.92793211 0.948535   0.93333615 0.91746179\n",
            " 0.92544119 0.91771511 0.9483239  0.94064004 0.96635143 0.9563033\n",
            " 0.96491598 0.95798701 0.95646113 0.95368153 0.95125979 0.94966215\n",
            " 0.94903111 0.94935668 0.95050269 0.95224881 0.95434624 0.95656151\n",
            " 0.9587099  0.96067148 0.96239281 0.96387821]\n",
            "15 day output [[0.9651741]]\n",
            "16 day input [0.96246728 0.92295027 0.9598497  0.98792536 0.98594106 0.92531453\n",
            " 0.92172591 0.96474711 0.97572406 0.99159841 0.96972895 0.97614625\n",
            " 0.96795575 1.         0.99016297 0.99050072 0.96538039 0.98488559\n",
            " 0.97086887 0.94026007 0.87748037 0.83483915 0.85413324 0.77336823\n",
            " 0.77269273 0.88014017 0.84007431 0.89673225 0.85527316 0.83884995\n",
            " 0.74233725 0.82327113 0.78143207 0.6665963  0.7921557  0.64118044\n",
            " 0.68614371 0.66001013 0.65203074 0.58642236 0.56586169 0.66089673\n",
            " 0.65515494 0.70970193 0.66452757 0.69437642 0.69218104 0.63569197\n",
            " 0.65266402 0.63780292 0.7267162  0.71388162 0.74191506 0.75002111\n",
            " 0.77222832 0.83049059 0.8194292  0.8289707  0.8125475  0.78776492\n",
            " 0.75162543 0.78426074 0.77974331 0.81326522 0.8141096  0.79473106\n",
            " 0.83336148 0.85898843 0.83901883 0.85628641 0.87486279 0.88782403\n",
            " 0.90095415 0.92793211 0.948535   0.93333615 0.91746179 0.92544119\n",
            " 0.91771511 0.9483239  0.94064004 0.96635143 0.9563033  0.96491598\n",
            " 0.95798701 0.95646113 0.95368153 0.95125979 0.94966215 0.94903111\n",
            " 0.94935668 0.95050269 0.95224881 0.95434624 0.95656151 0.9587099\n",
            " 0.96067148 0.96239281 0.96387821 0.96517408]\n",
            "16 day output [[0.9663501]]\n",
            "17 day input [0.92295027 0.9598497  0.98792536 0.98594106 0.92531453 0.92172591\n",
            " 0.96474711 0.97572406 0.99159841 0.96972895 0.97614625 0.96795575\n",
            " 1.         0.99016297 0.99050072 0.96538039 0.98488559 0.97086887\n",
            " 0.94026007 0.87748037 0.83483915 0.85413324 0.77336823 0.77269273\n",
            " 0.88014017 0.84007431 0.89673225 0.85527316 0.83884995 0.74233725\n",
            " 0.82327113 0.78143207 0.6665963  0.7921557  0.64118044 0.68614371\n",
            " 0.66001013 0.65203074 0.58642236 0.56586169 0.66089673 0.65515494\n",
            " 0.70970193 0.66452757 0.69437642 0.69218104 0.63569197 0.65266402\n",
            " 0.63780292 0.7267162  0.71388162 0.74191506 0.75002111 0.77222832\n",
            " 0.83049059 0.8194292  0.8289707  0.8125475  0.78776492 0.75162543\n",
            " 0.78426074 0.77974331 0.81326522 0.8141096  0.79473106 0.83336148\n",
            " 0.85898843 0.83901883 0.85628641 0.87486279 0.88782403 0.90095415\n",
            " 0.92793211 0.948535   0.93333615 0.91746179 0.92544119 0.91771511\n",
            " 0.9483239  0.94064004 0.96635143 0.9563033  0.96491598 0.95798701\n",
            " 0.95646113 0.95368153 0.95125979 0.94966215 0.94903111 0.94935668\n",
            " 0.95050269 0.95224881 0.95434624 0.95656151 0.9587099  0.96067148\n",
            " 0.96239281 0.96387821 0.96517408 0.96635008]\n",
            "17 day output [[0.96748096]]\n",
            "18 day input [0.9598497  0.98792536 0.98594106 0.92531453 0.92172591 0.96474711\n",
            " 0.97572406 0.99159841 0.96972895 0.97614625 0.96795575 1.\n",
            " 0.99016297 0.99050072 0.96538039 0.98488559 0.97086887 0.94026007\n",
            " 0.87748037 0.83483915 0.85413324 0.77336823 0.77269273 0.88014017\n",
            " 0.84007431 0.89673225 0.85527316 0.83884995 0.74233725 0.82327113\n",
            " 0.78143207 0.6665963  0.7921557  0.64118044 0.68614371 0.66001013\n",
            " 0.65203074 0.58642236 0.56586169 0.66089673 0.65515494 0.70970193\n",
            " 0.66452757 0.69437642 0.69218104 0.63569197 0.65266402 0.63780292\n",
            " 0.7267162  0.71388162 0.74191506 0.75002111 0.77222832 0.83049059\n",
            " 0.8194292  0.8289707  0.8125475  0.78776492 0.75162543 0.78426074\n",
            " 0.77974331 0.81326522 0.8141096  0.79473106 0.83336148 0.85898843\n",
            " 0.83901883 0.85628641 0.87486279 0.88782403 0.90095415 0.92793211\n",
            " 0.948535   0.93333615 0.91746179 0.92544119 0.91771511 0.9483239\n",
            " 0.94064004 0.96635143 0.9563033  0.96491598 0.95798701 0.95646113\n",
            " 0.95368153 0.95125979 0.94966215 0.94903111 0.94935668 0.95050269\n",
            " 0.95224881 0.95434624 0.95656151 0.9587099  0.96067148 0.96239281\n",
            " 0.96387821 0.96517408 0.96635008 0.96748096]\n",
            "18 day output [[0.9686336]]\n",
            "19 day input [0.98792536 0.98594106 0.92531453 0.92172591 0.96474711 0.97572406\n",
            " 0.99159841 0.96972895 0.97614625 0.96795575 1.         0.99016297\n",
            " 0.99050072 0.96538039 0.98488559 0.97086887 0.94026007 0.87748037\n",
            " 0.83483915 0.85413324 0.77336823 0.77269273 0.88014017 0.84007431\n",
            " 0.89673225 0.85527316 0.83884995 0.74233725 0.82327113 0.78143207\n",
            " 0.6665963  0.7921557  0.64118044 0.68614371 0.66001013 0.65203074\n",
            " 0.58642236 0.56586169 0.66089673 0.65515494 0.70970193 0.66452757\n",
            " 0.69437642 0.69218104 0.63569197 0.65266402 0.63780292 0.7267162\n",
            " 0.71388162 0.74191506 0.75002111 0.77222832 0.83049059 0.8194292\n",
            " 0.8289707  0.8125475  0.78776492 0.75162543 0.78426074 0.77974331\n",
            " 0.81326522 0.8141096  0.79473106 0.83336148 0.85898843 0.83901883\n",
            " 0.85628641 0.87486279 0.88782403 0.90095415 0.92793211 0.948535\n",
            " 0.93333615 0.91746179 0.92544119 0.91771511 0.9483239  0.94064004\n",
            " 0.96635143 0.9563033  0.96491598 0.95798701 0.95646113 0.95368153\n",
            " 0.95125979 0.94966215 0.94903111 0.94935668 0.95050269 0.95224881\n",
            " 0.95434624 0.95656151 0.9587099  0.96067148 0.96239281 0.96387821\n",
            " 0.96517408 0.96635008 0.96748096 0.96863359]\n",
            "19 day output [[0.96985704]]\n",
            "20 day input [0.98594106 0.92531453 0.92172591 0.96474711 0.97572406 0.99159841\n",
            " 0.96972895 0.97614625 0.96795575 1.         0.99016297 0.99050072\n",
            " 0.96538039 0.98488559 0.97086887 0.94026007 0.87748037 0.83483915\n",
            " 0.85413324 0.77336823 0.77269273 0.88014017 0.84007431 0.89673225\n",
            " 0.85527316 0.83884995 0.74233725 0.82327113 0.78143207 0.6665963\n",
            " 0.7921557  0.64118044 0.68614371 0.66001013 0.65203074 0.58642236\n",
            " 0.56586169 0.66089673 0.65515494 0.70970193 0.66452757 0.69437642\n",
            " 0.69218104 0.63569197 0.65266402 0.63780292 0.7267162  0.71388162\n",
            " 0.74191506 0.75002111 0.77222832 0.83049059 0.8194292  0.8289707\n",
            " 0.8125475  0.78776492 0.75162543 0.78426074 0.77974331 0.81326522\n",
            " 0.8141096  0.79473106 0.83336148 0.85898843 0.83901883 0.85628641\n",
            " 0.87486279 0.88782403 0.90095415 0.92793211 0.948535   0.93333615\n",
            " 0.91746179 0.92544119 0.91771511 0.9483239  0.94064004 0.96635143\n",
            " 0.9563033  0.96491598 0.95798701 0.95646113 0.95368153 0.95125979\n",
            " 0.94966215 0.94903111 0.94935668 0.95050269 0.95224881 0.95434624\n",
            " 0.95656151 0.9587099  0.96067148 0.96239281 0.96387821 0.96517408\n",
            " 0.96635008 0.96748096 0.96863359 0.96985704]\n",
            "20 day output [[0.97117835]]\n",
            "21 day input [0.92531453 0.92172591 0.96474711 0.97572406 0.99159841 0.96972895\n",
            " 0.97614625 0.96795575 1.         0.99016297 0.99050072 0.96538039\n",
            " 0.98488559 0.97086887 0.94026007 0.87748037 0.83483915 0.85413324\n",
            " 0.77336823 0.77269273 0.88014017 0.84007431 0.89673225 0.85527316\n",
            " 0.83884995 0.74233725 0.82327113 0.78143207 0.6665963  0.7921557\n",
            " 0.64118044 0.68614371 0.66001013 0.65203074 0.58642236 0.56586169\n",
            " 0.66089673 0.65515494 0.70970193 0.66452757 0.69437642 0.69218104\n",
            " 0.63569197 0.65266402 0.63780292 0.7267162  0.71388162 0.74191506\n",
            " 0.75002111 0.77222832 0.83049059 0.8194292  0.8289707  0.8125475\n",
            " 0.78776492 0.75162543 0.78426074 0.77974331 0.81326522 0.8141096\n",
            " 0.79473106 0.83336148 0.85898843 0.83901883 0.85628641 0.87486279\n",
            " 0.88782403 0.90095415 0.92793211 0.948535   0.93333615 0.91746179\n",
            " 0.92544119 0.91771511 0.9483239  0.94064004 0.96635143 0.9563033\n",
            " 0.96491598 0.95798701 0.95646113 0.95368153 0.95125979 0.94966215\n",
            " 0.94903111 0.94935668 0.95050269 0.95224881 0.95434624 0.95656151\n",
            " 0.9587099  0.96067148 0.96239281 0.96387821 0.96517408 0.96635008\n",
            " 0.96748096 0.96863359 0.96985704 0.97117835]\n",
            "21 day output [[0.97260344]]\n",
            "22 day input [0.92172591 0.96474711 0.97572406 0.99159841 0.96972895 0.97614625\n",
            " 0.96795575 1.         0.99016297 0.99050072 0.96538039 0.98488559\n",
            " 0.97086887 0.94026007 0.87748037 0.83483915 0.85413324 0.77336823\n",
            " 0.77269273 0.88014017 0.84007431 0.89673225 0.85527316 0.83884995\n",
            " 0.74233725 0.82327113 0.78143207 0.6665963  0.7921557  0.64118044\n",
            " 0.68614371 0.66001013 0.65203074 0.58642236 0.56586169 0.66089673\n",
            " 0.65515494 0.70970193 0.66452757 0.69437642 0.69218104 0.63569197\n",
            " 0.65266402 0.63780292 0.7267162  0.71388162 0.74191506 0.75002111\n",
            " 0.77222832 0.83049059 0.8194292  0.8289707  0.8125475  0.78776492\n",
            " 0.75162543 0.78426074 0.77974331 0.81326522 0.8141096  0.79473106\n",
            " 0.83336148 0.85898843 0.83901883 0.85628641 0.87486279 0.88782403\n",
            " 0.90095415 0.92793211 0.948535   0.93333615 0.91746179 0.92544119\n",
            " 0.91771511 0.9483239  0.94064004 0.96635143 0.9563033  0.96491598\n",
            " 0.95798701 0.95646113 0.95368153 0.95125979 0.94966215 0.94903111\n",
            " 0.94935668 0.95050269 0.95224881 0.95434624 0.95656151 0.9587099\n",
            " 0.96067148 0.96239281 0.96387821 0.96517408 0.96635008 0.96748096\n",
            " 0.96863359 0.96985704 0.97117835 0.97260344]\n",
            "22 day output [[0.97412056]]\n",
            "23 day input [0.96474711 0.97572406 0.99159841 0.96972895 0.97614625 0.96795575\n",
            " 1.         0.99016297 0.99050072 0.96538039 0.98488559 0.97086887\n",
            " 0.94026007 0.87748037 0.83483915 0.85413324 0.77336823 0.77269273\n",
            " 0.88014017 0.84007431 0.89673225 0.85527316 0.83884995 0.74233725\n",
            " 0.82327113 0.78143207 0.6665963  0.7921557  0.64118044 0.68614371\n",
            " 0.66001013 0.65203074 0.58642236 0.56586169 0.66089673 0.65515494\n",
            " 0.70970193 0.66452757 0.69437642 0.69218104 0.63569197 0.65266402\n",
            " 0.63780292 0.7267162  0.71388162 0.74191506 0.75002111 0.77222832\n",
            " 0.83049059 0.8194292  0.8289707  0.8125475  0.78776492 0.75162543\n",
            " 0.78426074 0.77974331 0.81326522 0.8141096  0.79473106 0.83336148\n",
            " 0.85898843 0.83901883 0.85628641 0.87486279 0.88782403 0.90095415\n",
            " 0.92793211 0.948535   0.93333615 0.91746179 0.92544119 0.91771511\n",
            " 0.9483239  0.94064004 0.96635143 0.9563033  0.96491598 0.95798701\n",
            " 0.95646113 0.95368153 0.95125979 0.94966215 0.94903111 0.94935668\n",
            " 0.95050269 0.95224881 0.95434624 0.95656151 0.9587099  0.96067148\n",
            " 0.96239281 0.96387821 0.96517408 0.96635008 0.96748096 0.96863359\n",
            " 0.96985704 0.97117835 0.97260344 0.97412056]\n",
            "23 day output [[0.97570705]]\n",
            "24 day input [0.97572406 0.99159841 0.96972895 0.97614625 0.96795575 1.\n",
            " 0.99016297 0.99050072 0.96538039 0.98488559 0.97086887 0.94026007\n",
            " 0.87748037 0.83483915 0.85413324 0.77336823 0.77269273 0.88014017\n",
            " 0.84007431 0.89673225 0.85527316 0.83884995 0.74233725 0.82327113\n",
            " 0.78143207 0.6665963  0.7921557  0.64118044 0.68614371 0.66001013\n",
            " 0.65203074 0.58642236 0.56586169 0.66089673 0.65515494 0.70970193\n",
            " 0.66452757 0.69437642 0.69218104 0.63569197 0.65266402 0.63780292\n",
            " 0.7267162  0.71388162 0.74191506 0.75002111 0.77222832 0.83049059\n",
            " 0.8194292  0.8289707  0.8125475  0.78776492 0.75162543 0.78426074\n",
            " 0.77974331 0.81326522 0.8141096  0.79473106 0.83336148 0.85898843\n",
            " 0.83901883 0.85628641 0.87486279 0.88782403 0.90095415 0.92793211\n",
            " 0.948535   0.93333615 0.91746179 0.92544119 0.91771511 0.9483239\n",
            " 0.94064004 0.96635143 0.9563033  0.96491598 0.95798701 0.95646113\n",
            " 0.95368153 0.95125979 0.94966215 0.94903111 0.94935668 0.95050269\n",
            " 0.95224881 0.95434624 0.95656151 0.9587099  0.96067148 0.96239281\n",
            " 0.96387821 0.96517408 0.96635008 0.96748096 0.96863359 0.96985704\n",
            " 0.97117835 0.97260344 0.97412056 0.97570705]\n",
            "24 day output [[0.97733414]]\n",
            "25 day input [0.99159841 0.96972895 0.97614625 0.96795575 1.         0.99016297\n",
            " 0.99050072 0.96538039 0.98488559 0.97086887 0.94026007 0.87748037\n",
            " 0.83483915 0.85413324 0.77336823 0.77269273 0.88014017 0.84007431\n",
            " 0.89673225 0.85527316 0.83884995 0.74233725 0.82327113 0.78143207\n",
            " 0.6665963  0.7921557  0.64118044 0.68614371 0.66001013 0.65203074\n",
            " 0.58642236 0.56586169 0.66089673 0.65515494 0.70970193 0.66452757\n",
            " 0.69437642 0.69218104 0.63569197 0.65266402 0.63780292 0.7267162\n",
            " 0.71388162 0.74191506 0.75002111 0.77222832 0.83049059 0.8194292\n",
            " 0.8289707  0.8125475  0.78776492 0.75162543 0.78426074 0.77974331\n",
            " 0.81326522 0.8141096  0.79473106 0.83336148 0.85898843 0.83901883\n",
            " 0.85628641 0.87486279 0.88782403 0.90095415 0.92793211 0.948535\n",
            " 0.93333615 0.91746179 0.92544119 0.91771511 0.9483239  0.94064004\n",
            " 0.96635143 0.9563033  0.96491598 0.95798701 0.95646113 0.95368153\n",
            " 0.95125979 0.94966215 0.94903111 0.94935668 0.95050269 0.95224881\n",
            " 0.95434624 0.95656151 0.9587099  0.96067148 0.96239281 0.96387821\n",
            " 0.96517408 0.96635008 0.96748096 0.96863359 0.96985704 0.97117835\n",
            " 0.97260344 0.97412056 0.97570705 0.97733414]\n",
            "25 day output [[0.97897375]]\n",
            "26 day input [0.96972895 0.97614625 0.96795575 1.         0.99016297 0.99050072\n",
            " 0.96538039 0.98488559 0.97086887 0.94026007 0.87748037 0.83483915\n",
            " 0.85413324 0.77336823 0.77269273 0.88014017 0.84007431 0.89673225\n",
            " 0.85527316 0.83884995 0.74233725 0.82327113 0.78143207 0.6665963\n",
            " 0.7921557  0.64118044 0.68614371 0.66001013 0.65203074 0.58642236\n",
            " 0.56586169 0.66089673 0.65515494 0.70970193 0.66452757 0.69437642\n",
            " 0.69218104 0.63569197 0.65266402 0.63780292 0.7267162  0.71388162\n",
            " 0.74191506 0.75002111 0.77222832 0.83049059 0.8194292  0.8289707\n",
            " 0.8125475  0.78776492 0.75162543 0.78426074 0.77974331 0.81326522\n",
            " 0.8141096  0.79473106 0.83336148 0.85898843 0.83901883 0.85628641\n",
            " 0.87486279 0.88782403 0.90095415 0.92793211 0.948535   0.93333615\n",
            " 0.91746179 0.92544119 0.91771511 0.9483239  0.94064004 0.96635143\n",
            " 0.9563033  0.96491598 0.95798701 0.95646113 0.95368153 0.95125979\n",
            " 0.94966215 0.94903111 0.94935668 0.95050269 0.95224881 0.95434624\n",
            " 0.95656151 0.9587099  0.96067148 0.96239281 0.96387821 0.96517408\n",
            " 0.96635008 0.96748096 0.96863359 0.96985704 0.97117835 0.97260344\n",
            " 0.97412056 0.97570705 0.97733414 0.97897375]\n",
            "26 day output [[0.9806025]]\n",
            "27 day input [0.97614625 0.96795575 1.         0.99016297 0.99050072 0.96538039\n",
            " 0.98488559 0.97086887 0.94026007 0.87748037 0.83483915 0.85413324\n",
            " 0.77336823 0.77269273 0.88014017 0.84007431 0.89673225 0.85527316\n",
            " 0.83884995 0.74233725 0.82327113 0.78143207 0.6665963  0.7921557\n",
            " 0.64118044 0.68614371 0.66001013 0.65203074 0.58642236 0.56586169\n",
            " 0.66089673 0.65515494 0.70970193 0.66452757 0.69437642 0.69218104\n",
            " 0.63569197 0.65266402 0.63780292 0.7267162  0.71388162 0.74191506\n",
            " 0.75002111 0.77222832 0.83049059 0.8194292  0.8289707  0.8125475\n",
            " 0.78776492 0.75162543 0.78426074 0.77974331 0.81326522 0.8141096\n",
            " 0.79473106 0.83336148 0.85898843 0.83901883 0.85628641 0.87486279\n",
            " 0.88782403 0.90095415 0.92793211 0.948535   0.93333615 0.91746179\n",
            " 0.92544119 0.91771511 0.9483239  0.94064004 0.96635143 0.9563033\n",
            " 0.96491598 0.95798701 0.95646113 0.95368153 0.95125979 0.94966215\n",
            " 0.94903111 0.94935668 0.95050269 0.95224881 0.95434624 0.95656151\n",
            " 0.9587099  0.96067148 0.96239281 0.96387821 0.96517408 0.96635008\n",
            " 0.96748096 0.96863359 0.96985704 0.97117835 0.97260344 0.97412056\n",
            " 0.97570705 0.97733414 0.97897375 0.9806025 ]\n",
            "27 day output [[0.98220325]]\n",
            "28 day input [0.96795575 1.         0.99016297 0.99050072 0.96538039 0.98488559\n",
            " 0.97086887 0.94026007 0.87748037 0.83483915 0.85413324 0.77336823\n",
            " 0.77269273 0.88014017 0.84007431 0.89673225 0.85527316 0.83884995\n",
            " 0.74233725 0.82327113 0.78143207 0.6665963  0.7921557  0.64118044\n",
            " 0.68614371 0.66001013 0.65203074 0.58642236 0.56586169 0.66089673\n",
            " 0.65515494 0.70970193 0.66452757 0.69437642 0.69218104 0.63569197\n",
            " 0.65266402 0.63780292 0.7267162  0.71388162 0.74191506 0.75002111\n",
            " 0.77222832 0.83049059 0.8194292  0.8289707  0.8125475  0.78776492\n",
            " 0.75162543 0.78426074 0.77974331 0.81326522 0.8141096  0.79473106\n",
            " 0.83336148 0.85898843 0.83901883 0.85628641 0.87486279 0.88782403\n",
            " 0.90095415 0.92793211 0.948535   0.93333615 0.91746179 0.92544119\n",
            " 0.91771511 0.9483239  0.94064004 0.96635143 0.9563033  0.96491598\n",
            " 0.95798701 0.95646113 0.95368153 0.95125979 0.94966215 0.94903111\n",
            " 0.94935668 0.95050269 0.95224881 0.95434624 0.95656151 0.9587099\n",
            " 0.96067148 0.96239281 0.96387821 0.96517408 0.96635008 0.96748096\n",
            " 0.96863359 0.96985704 0.97117835 0.97260344 0.97412056 0.97570705\n",
            " 0.97733414 0.97897375 0.9806025  0.98220325]\n",
            "28 day output [[0.98376715]]\n",
            "29 day input [1.         0.99016297 0.99050072 0.96538039 0.98488559 0.97086887\n",
            " 0.94026007 0.87748037 0.83483915 0.85413324 0.77336823 0.77269273\n",
            " 0.88014017 0.84007431 0.89673225 0.85527316 0.83884995 0.74233725\n",
            " 0.82327113 0.78143207 0.6665963  0.7921557  0.64118044 0.68614371\n",
            " 0.66001013 0.65203074 0.58642236 0.56586169 0.66089673 0.65515494\n",
            " 0.70970193 0.66452757 0.69437642 0.69218104 0.63569197 0.65266402\n",
            " 0.63780292 0.7267162  0.71388162 0.74191506 0.75002111 0.77222832\n",
            " 0.83049059 0.8194292  0.8289707  0.8125475  0.78776492 0.75162543\n",
            " 0.78426074 0.77974331 0.81326522 0.8141096  0.79473106 0.83336148\n",
            " 0.85898843 0.83901883 0.85628641 0.87486279 0.88782403 0.90095415\n",
            " 0.92793211 0.948535   0.93333615 0.91746179 0.92544119 0.91771511\n",
            " 0.9483239  0.94064004 0.96635143 0.9563033  0.96491598 0.95798701\n",
            " 0.95646113 0.95368153 0.95125979 0.94966215 0.94903111 0.94935668\n",
            " 0.95050269 0.95224881 0.95434624 0.95656151 0.9587099  0.96067148\n",
            " 0.96239281 0.96387821 0.96517408 0.96635008 0.96748096 0.96863359\n",
            " 0.96985704 0.97117835 0.97260344 0.97412056 0.97570705 0.97733414\n",
            " 0.97897375 0.9806025  0.98220325 0.98376715]\n",
            "29 day output [[0.98529285]]\n",
            "[[0.9579870104789734], [0.9564611315727234], [0.9536815285682678], [0.9512597918510437], [0.9496621489524841], [0.9490311145782471], [0.9493566751480103], [0.9505026936531067], [0.9522488117218018], [0.954346239566803], [0.9565615057945251], [0.9587098956108093], [0.9606714844703674], [0.9623928070068359], [0.9638782143592834], [0.9651740789413452], [0.9663500785827637], [0.9674809575080872], [0.9686335921287537], [0.9698570370674133], [0.9711783528327942], [0.972603440284729], [0.974120557308197], [0.9757070541381836], [0.9773341417312622], [0.9789737462997437], [0.980602502822876], [0.9822032451629639], [0.9837671518325806], [0.9852928519248962]]\n"
          ],
          "name": "stdout"
        }
      ]
    },
    {
      "cell_type": "code",
      "metadata": {
        "id": "qC0apUyNlbIQ"
      },
      "source": [
        "day_new=np.arange(1,101)\n",
        "day_pred=np.arange(101,131)"
      ],
      "execution_count": 44,
      "outputs": []
    },
    {
      "cell_type": "code",
      "metadata": {
        "colab": {
          "base_uri": "https://localhost:8080/",
          "height": 282
        },
        "id": "W-H7MiU8lf2O",
        "outputId": "7ad8a120-e17c-445d-9963-e3e055bd432d"
      },
      "source": [
        "plt.plot(day_new,scaler.inverse_transform(df1[1158:]))\n",
        "plt.plot(day_pred,scaler.inverse_transform(lst_output))"
      ],
      "execution_count": 45,
      "outputs": [
        {
          "output_type": "execute_result",
          "data": {
            "text/plain": [
              "[<matplotlib.lines.Line2D at 0x7f5936559f90>]"
            ]
          },
          "metadata": {
            "tags": []
          },
          "execution_count": 45
        },
        {
          "output_type": "display_data",
          "data": {
            "image/png": "[encoded data removed]",
            "text/plain": [
              "<Figure size 432x288 with 1 Axes>"
            ]
          },
          "metadata": {
            "tags": [],
            "needs_background": "light"
          }
        }
      ]
    },
    {
      "cell_type": "code",
      "metadata": {
        "colab": {
          "base_uri": "https://localhost:8080/",
          "height": 283
        },
        "id": "Rb5rOmQxl_T5",
        "outputId": "f03b5f37-d8b3-4a2b-86a4-e23754af59dd"
      },
      "source": [
        "df3=df1.tolist()\n",
        "df3.extend(lst_output)\n",
        "plt.plot(df3[1200:])"
      ],
      "execution_count": 46,
      "outputs": [
        {
          "output_type": "execute_result",
          "data": {
            "text/plain": [
              "[<matplotlib.lines.Line2D at 0x7f59364a76d0>]"
            ]
          },
          "metadata": {
            "tags": []
          },
          "execution_count": 46
        },
        {
          "output_type": "display_data",
          "data": {
            "image/png": "[encoded data removed]",
            "text/plain": [
              "<Figure size 432x288 with 1 Axes>"
            ]
          },
          "metadata": {
            "tags": [],
            "needs_background": "light"
          }
        }
      ]
    },
    {
      "cell_type": "code",
      "metadata": {
        "colab": {
          "base_uri": "https://localhost:8080/",
          "height": 282
        },
        "id": "YFYJyKY3mC7r",
        "outputId": "e7b8ee2c-9654-47a4-c758-1f45e441d527"
      },
      "source": [
        "df3=scaler.inverse_transform(df3).tolist()\n",
        "plt.plot(df3)"
      ],
      "execution_count": 47,
      "outputs": [
        {
          "output_type": "execute_result",
          "data": {
            "text/plain": [
              "[<matplotlib.lines.Line2D at 0x7f593651ac50>]"
            ]
          },
          "metadata": {
            "tags": []
          },
          "execution_count": 47
        },
        {
          "output_type": "display_data",
          "data": {
            "image/png": "[encoded data removed]",
            "text/plain": [
              "<Figure size 432x288 with 1 Axes>"
            ]
          },
          "metadata": {
            "tags": [],
            "needs_background": "light"
          }
        }
      ]
    }
  ]
}